{
 "cells": [
  {
   "cell_type": "code",
   "execution_count": 1,
   "metadata": {},
   "outputs": [],
   "source": [
    "# project: p10\n",
    "# submitter: bai59\n",
    "# partner: pli233\n",
    "# hours: 2"
   ]
  },
  {
   "cell_type": "code",
   "execution_count": 2,
   "metadata": {},
   "outputs": [],
   "source": [
    "import os\n",
    "import csv\n",
    "import json\n",
    "from collections import namedtuple\n",
    "# you may use from style of import to import JSONDecodeError"
   ]
  },
  {
   "cell_type": "code",
   "execution_count": 3,
   "metadata": {},
   "outputs": [],
   "source": [
    "def list_files_in(pathname):\n",
    "    res = []\n",
    "    files = os.listdir(pathname)\n",
    "    files.sort()\n",
    "    for i in files:\n",
    "        if(i[0]!='.'):\n",
    "            res.append(i)\n",
    "    sorted(res)\n",
    "    return res"
   ]
  },
  {
   "cell_type": "code",
   "execution_count": 4,
   "metadata": {},
   "outputs": [
    {
     "data": {
      "text/plain": [
       "['channel_ids1.json',\n",
       " 'channel_ids2.json',\n",
       " 'channel_ids3.json',\n",
       " 'channel_ids4.json',\n",
       " 'channel_ids5.json',\n",
       " 'comment_data1.csv',\n",
       " 'comment_data2.csv',\n",
       " 'comment_data3.csv',\n",
       " 'comment_data4.csv',\n",
       " 'comment_data5.csv',\n",
       " 'video_data.csv',\n",
       " 'video_ids.json']"
      ]
     },
     "execution_count": 4,
     "metadata": {},
     "output_type": "execute_result"
    }
   ],
   "source": [
    "#q1\n",
    "list_files_in(\"data\")"
   ]
  },
  {
   "cell_type": "code",
   "execution_count": 5,
   "metadata": {},
   "outputs": [],
   "source": [
    "def list_paths_in(pathname):\n",
    "    return [os.path.join(pathname,i) for i in list_files_in(pathname)]"
   ]
  },
  {
   "cell_type": "code",
   "execution_count": 6,
   "metadata": {},
   "outputs": [
    {
     "data": {
      "text/plain": [
       "['data\\\\channel_ids1.json',\n",
       " 'data\\\\channel_ids2.json',\n",
       " 'data\\\\channel_ids3.json',\n",
       " 'data\\\\channel_ids4.json',\n",
       " 'data\\\\channel_ids5.json',\n",
       " 'data\\\\comment_data1.csv',\n",
       " 'data\\\\comment_data2.csv',\n",
       " 'data\\\\comment_data3.csv',\n",
       " 'data\\\\comment_data4.csv',\n",
       " 'data\\\\comment_data5.csv',\n",
       " 'data\\\\video_data.csv',\n",
       " 'data\\\\video_ids.json']"
      ]
     },
     "execution_count": 6,
     "metadata": {},
     "output_type": "execute_result"
    }
   ],
   "source": [
    "#q2\n",
    "list_paths_in_data = list_paths_in(\"data\")\n",
    "list_paths_in_data"
   ]
  },
  {
   "cell_type": "code",
   "execution_count": 7,
   "metadata": {},
   "outputs": [
    {
     "data": {
      "text/plain": [
       "['data\\\\comment_data1.csv',\n",
       " 'data\\\\comment_data2.csv',\n",
       " 'data\\\\comment_data3.csv',\n",
       " 'data\\\\comment_data4.csv',\n",
       " 'data\\\\comment_data5.csv']"
      ]
     },
     "execution_count": 7,
     "metadata": {},
     "output_type": "execute_result"
    }
   ],
   "source": [
    "#q3\n",
    "comment_paths = [i for i in list_paths_in_data if 'comment_data' in i]\n",
    "comment_paths.sort()\n",
    "comment_paths"
   ]
  },
  {
   "cell_type": "code",
   "execution_count": 8,
   "metadata": {},
   "outputs": [
    {
     "data": {
      "text/plain": [
       "['data\\\\channel_ids1.json',\n",
       " 'data\\\\channel_ids2.json',\n",
       " 'data\\\\channel_ids3.json',\n",
       " 'data\\\\channel_ids4.json',\n",
       " 'data\\\\channel_ids5.json']"
      ]
     },
     "execution_count": 8,
     "metadata": {},
     "output_type": "execute_result"
    }
   ],
   "source": [
    "#q4\n",
    "channel_paths = [i for i in list_paths_in_data if 'channel_ids' in i]\n",
    "channel_paths.sort()\n",
    "channel_paths"
   ]
  },
  {
   "cell_type": "code",
   "execution_count": 9,
   "metadata": {},
   "outputs": [],
   "source": [
    "def read_json(path):\n",
    "    with open(path, encoding=\"utf-8\") as f:\n",
    "        return json.load(f) # dict, list, etc\n",
    "def get_mapping(pathname):\n",
    "    try:\n",
    "        return read_json(pathname)\n",
    "    except json.JSONDecodeError:\n",
    "        return {}"
   ]
  },
  {
   "cell_type": "code",
   "execution_count": 10,
   "metadata": {},
   "outputs": [
    {
     "data": {
      "text/plain": [
       "'Al Jazeera English'"
      ]
     },
     "execution_count": 10,
     "metadata": {},
     "output_type": "execute_result"
    }
   ],
   "source": [
    "#q5\n",
    "get_mapping(os.path.join(\"data\", \"channel_ids1.json\"))['UCNye-wNBqNL5ZzHSJj3l8Bg']"
   ]
  },
  {
   "cell_type": "code",
   "execution_count": 11,
   "metadata": {},
   "outputs": [
    {
     "data": {
      "text/plain": [
       "372"
      ]
     },
     "execution_count": 11,
     "metadata": {},
     "output_type": "execute_result"
    }
   ],
   "source": [
    "#q6\n",
    "channel_dict = {}\n",
    "counter = 0\n",
    "for i in channel_paths:\n",
    "    for j in get_mapping(i).items():\n",
    "        channel_dict[j[0]] = j[1]\n",
    "        counter += 1\n",
    "counter"
   ]
  },
  {
   "cell_type": "code",
   "execution_count": 12,
   "metadata": {},
   "outputs": [],
   "source": [
    "Comment = namedtuple(\"Comment\",[\"video_id\",\"comment_length\",\"author_id\",\"likes\",\"published_at\"])"
   ]
  },
  {
   "cell_type": "code",
   "execution_count": 13,
   "metadata": {},
   "outputs": [],
   "source": [
    "# You will need process_csv in order to complete get_comment_data.\n",
    "# If you already copy/pasted it from lab, please ignore this copy.\n",
    "def process_csv(filename):\n",
    "    exampleFile = open(filename, encoding=\"utf-8\")  \n",
    "    exampleReader = csv.reader(exampleFile)\n",
    "    exampleData = list(exampleReader)        \n",
    "    exampleFile.close()  \n",
    "    return exampleData\n",
    "\n",
    "def get_comment_data(comment_file):\n",
    "    csv_data = process_csv(comment_file)\n",
    "    header = csv_data[0]\n",
    "    comment_rows = csv_data[1:]\n",
    "    comment_id_idx = header.index(\"comment_id\")\n",
    "    video_id_idx = header.index(\"video_id\")\n",
    "    comment_length_idx = header.index(\"comment_length\")\n",
    "    author_id_idx = header.index(\"author_id\")\n",
    "    likes_idx = header.index(\"likes\")\n",
    "    published_at_idx = header.index(\"published_at\")\n",
    "    # Iterate over comment_rows\n",
    "    res = {}\n",
    "    for i in comment_rows:\n",
    "        if len(i) != 6 or '' in i:\n",
    "            continue\n",
    "        try:\n",
    "            res[i[comment_id_idx]] = Comment(i[video_id_idx],int(i[comment_length_idx]),i[author_id_idx],int(i[likes_idx]),i[published_at_idx])\n",
    "        except ValueError:\n",
    "            continue\n",
    "    return res"
   ]
  },
  {
   "cell_type": "code",
   "execution_count": 14,
   "metadata": {},
   "outputs": [
    {
     "data": {
      "text/plain": [
       "Comment(video_id='udNXMAflbU8', comment_length=175, author_id='UCHkk7x38KWgqjQOHqsQwf0Q', likes=47, published_at='2021-10-10 17:48:38')"
      ]
     },
     "execution_count": 14,
     "metadata": {},
     "output_type": "execute_result"
    }
   ],
   "source": [
    "#q7\n",
    "#What is the Comment object with comment ID UgygOezB4Mvd5o6FgAt4AaABAg\n",
    "get_comment_data(os.path.join(\"data\", \"comment_data1.csv\"))['UgygOezB4Mvd5o6FgAt4AaABAg']"
   ]
  },
  {
   "cell_type": "code",
   "execution_count": 15,
   "metadata": {},
   "outputs": [],
   "source": [
    "comments = {}\n",
    "for file in comment_paths:\n",
    "    comments.update(get_comment_data(file))"
   ]
  },
  {
   "cell_type": "code",
   "execution_count": 16,
   "metadata": {},
   "outputs": [
    {
     "data": {
      "text/plain": [
       "67"
      ]
     },
     "execution_count": 16,
     "metadata": {},
     "output_type": "execute_result"
    }
   ],
   "source": [
    "#q8\n",
    "#What is the length of the comment with ID UgztIaGfqFoiGvbOdfp4AaABAg\n",
    "comments['UgztIaGfqFoiGvbOdfp4AaABAg'].comment_length"
   ]
  },
  {
   "cell_type": "code",
   "execution_count": 17,
   "metadata": {},
   "outputs": [
    {
     "data": {
      "text/plain": [
       "86.86953042956443"
      ]
     },
     "execution_count": 17,
     "metadata": {},
     "output_type": "execute_result"
    }
   ],
   "source": [
    "#q9\n",
    "#What percentage of comments are at most 140 characters long?\n",
    "len([i for i in comments.values() if i.comment_length<=140])/len(comments) * 100"
   ]
  },
  {
   "cell_type": "code",
   "execution_count": 18,
   "metadata": {},
   "outputs": [
    {
     "data": {
      "text/plain": [
       "'UCIPPMRA040LQr5QPyJEbmXA'"
      ]
     },
     "execution_count": 18,
     "metadata": {},
     "output_type": "execute_result"
    }
   ],
   "source": [
    "#q10\n",
    "#What is the author ID of the comment that has the highest number of likes?\n",
    "max_val = -1\n",
    "for i in comments.values():\n",
    "    if i.likes>max_val:\n",
    "        max_val = i.likes\n",
    "        max_id = i.author_id\n",
    "max_id"
   ]
  },
  {
   "cell_type": "code",
   "execution_count": 19,
   "metadata": {},
   "outputs": [
    {
     "data": {
      "text/plain": [
       "19"
      ]
     },
     "execution_count": 19,
     "metadata": {},
     "output_type": "execute_result"
    }
   ],
   "source": [
    "#Q11\n",
    "#calculate the most active hour for posting comment\n",
    "# dict of 24 hours\n",
    "hour_dict = {i:0 for i in range(24)}\n",
    "for i in comments.values():\n",
    "    hour_dict[int(i.published_at[11:13])] += 1\n",
    "sorted(hour_dict.items(), key=lambda x: x[1], reverse=True)[0][0]"
   ]
  },
  {
   "cell_type": "code",
   "execution_count": 20,
   "metadata": {},
   "outputs": [],
   "source": [
    "# Bucketize the comments data by creating a dict mapping video IDs to a list of comment IDs corresponding to that video ID.\n",
    "comment_buckets = {}\n",
    "for i in comments:\n",
    "    if comments[i].video_id not in comment_buckets:\n",
    "        comment_buckets[comments[i].video_id] = [i]\n",
    "    else:\n",
    "        comment_buckets[comments[i].video_id].append(i)"
   ]
  },
  {
   "cell_type": "code",
   "execution_count": 21,
   "metadata": {},
   "outputs": [
    {
     "data": {
      "text/plain": [
       "606"
      ]
     },
     "execution_count": 21,
     "metadata": {},
     "output_type": "execute_result"
    }
   ],
   "source": [
    "#q12\n",
    "# How many comments does the video with ID A8rrr_w8rfk have?\n",
    "len(comment_buckets['A8rrr_w8rfk'])"
   ]
  },
  {
   "cell_type": "code",
   "execution_count": 22,
   "metadata": {},
   "outputs": [],
   "source": [
    "def get_videos(data_file, video_mapping_file):\n",
    "    \"\"\"\n",
    "    Given data_file (csv file) and video_mapping_file (json) file, generates a video\n",
    "    dictionary, mapping video ID to a dictionary containing title, and other details of the video.\n",
    "    Handles missing entry in video_ids.json by using try / except blocks to handle KeyError.\n",
    "    \"\"\"\n",
    "    data = process_csv(data_file)\n",
    "    header = data[0]\n",
    "    all_videos = data[1:]\n",
    "    video_mapping = get_mapping(video_mapping_file)\n",
    "    videos_dict = dict()\n",
    "    for video in all_videos: # You may find it helpful to do all_videos[:5] to only look at the first 5 videos.\n",
    "        try:\n",
    "            videos_dict[video[header.index(\"video_id\")]] = {\n",
    "                \"title\": video_mapping[video[header.index(\"video_id\")]],\n",
    "                \"ratings_enabled\": video[header.index(\"likes\")]!='' and video[header.index(\"dislikes\")]!='',\n",
    "                \"channel_name\": channel_dict[video[header.index(\"channel_id\")]],\n",
    "                \"published_at\": video[header.index(\"published_at\")],\n",
    "                \"duration\": video[header.index(\"duration\")],\n",
    "                \"category\": video[header.index(\"category\")],\n",
    "                \"tags\": video[header.index(\"tags\")].split(\"|\"),\n",
    "                \"comments\": comment_buckets[video[header.index(\"video_id\")]],\n",
    "                \"views\": int(video[header.index(\"views\")])\n",
    "            }\n",
    "            if videos_dict[video[header.index(\"video_id\")]][\"ratings_enabled\"]:\n",
    "                videos_dict[video[header.index(\"video_id\")]][\"likes\"] =  int(video[header.index(\"likes\")])\n",
    "                videos_dict[video[header.index(\"video_id\")]][\"dislikes\"] =  int(video[header.index(\"dislikes\")])\n",
    "        except KeyError:\n",
    "            continue\n",
    "        except ValueError:\n",
    "            continue\n",
    "    return videos_dict\n",
    "\n",
    "videos = get_videos(os.path.join('data','video_data.csv'), os.path.join('data','video_ids.json'))"
   ]
  },
  {
   "cell_type": "code",
   "execution_count": 23,
   "metadata": {},
   "outputs": [
    {
     "data": {
      "text/plain": [
       "{'title': 'SWAWS | Totally Accurate Battlegrounds',\n",
       " 'ratings_enabled': True,\n",
       " 'channel_name': 'TheRussianBadger',\n",
       " 'published_at': '2021-10-12 19:01:41',\n",
       " 'duration': '00:18:46',\n",
       " 'category': 'Gaming',\n",
       " 'tags': ['tot',\n",
       "  'totally accurate battlegrounds',\n",
       "  'tabg',\n",
       "  'totally accurate battle simulator',\n",
       "  'totally accurate battlegrounds gameplay',\n",
       "  'totally accurate battle grounds',\n",
       "  'tabg gameplay',\n",
       "  'tabg game',\n",
       "  'tabs',\n",
       "  'totally accurate',\n",
       "  'totally accurate battle royale',\n",
       "  'battle royale',\n",
       "  'tabg funny',\n",
       "  'fortnite',\n",
       "  'battlegrounds',\n",
       "  'tabs battle royale',\n",
       "  'new battle royale',\n",
       "  'pubg',\n",
       "  'totally accurate battlegrounds funny',\n",
       "  'swaws',\n",
       "  'swaws meme',\n",
       "  'swaws russian badger',\n",
       "  'tabg update',\n",
       "  'tabg win',\n",
       "  'tabg br',\n",
       "  'free to play pc games',\n",
       "  'free to play'],\n",
       " 'comments': ['UgzgwN2JXxjTN4mR5954AaABAg.9TPxukUd20g9TQLnJi3RFU',\n",
       "  'Ugw8z3sbkSQQpgINHdl4AaABAg',\n",
       "  'UgyjZAl0XlNg-gOZ0jR4AaABAg.9TPyCmI6pbl9TQAXc7oVx_',\n",
       "  'Ugy1W1ldfeXB5VavpEB4AaABAg',\n",
       "  'Ugz-5ND1_48bvR--K-h4AaABAg.9TcESnaSWQO9TwybqLquLh',\n",
       "  'Ugw8yRjg6yeaJ-KJmvN4AaABAg',\n",
       "  'Ugxvp2D5qsf_Kz3qLfJ4AaABAg',\n",
       "  'UgyjZAl0XlNg-gOZ0jR4AaABAg.9TPyCmI6pbl9TS3pUjvdvY',\n",
       "  'Ugx7Z_ZM2zeYpgTo2V54AaABAg.9TPtkn_qSTN9TQ53TeDjlr',\n",
       "  'UgyJSgJPxm3-cOi3bSh4AaABAg',\n",
       "  'UgxpmEEjcu4ATnKp_dt4AaABAg.9TPdawdmb1E9TS4AKca9bH',\n",
       "  'Ugwq8srR6ykQ2_6mgRB4AaABAg',\n",
       "  'UgyjZAl0XlNg-gOZ0jR4AaABAg',\n",
       "  'Ugyvf9XkcWXRZx7icN14AaABAg',\n",
       "  'UgyjZAl0XlNg-gOZ0jR4AaABAg.9TPyCmI6pbl9TQFiNbKjs4',\n",
       "  'UgxHObmG9Ifype4Dtjh4AaABAg',\n",
       "  'Ugy2t0J2rMrLqVCcAxV4AaABAg',\n",
       "  'UgzZWUkzBIwfWd81Azd4AaABAg.9TSUVio8FDs9TX0cFy0cPn',\n",
       "  'Ugxp63hxPOpvnQXfmfN4AaABAg',\n",
       "  'Ugywck2nfxGf1P-jGrV4AaABAg.9TTUaC5BZm99TUWmUYdTW3',\n",
       "  'UgyF54uSxOw317OaxW94AaABAg',\n",
       "  'Ugz-hiG5y5Ifo2hXQRd4AaABAg.9TPd_-XUJf_9TS3y-fezid',\n",
       "  'UgwQZBclHDt-blfzYwh4AaABAg',\n",
       "  'UgzZWUkzBIwfWd81Azd4AaABAg.9TSUVio8FDs9TUQsdd2w1L',\n",
       "  'Ugz-hiG5y5Ifo2hXQRd4AaABAg.9TPd_-XUJf_9TQEttSsTwV',\n",
       "  'Ugz-hiG5y5Ifo2hXQRd4AaABAg.9TPd_-XUJf_9TabMdgwb7s',\n",
       "  'Ugz5310iuzanBWihavR4AaABAg',\n",
       "  'UgzvogxMg82Kj0aW84x4AaABAg',\n",
       "  'UgzZWUkzBIwfWd81Azd4AaABAg.9TSUVio8FDs9TUyS8-BWoG',\n",
       "  'UgwDeZIB2YoH3gT3LNt4AaABAg',\n",
       "  'UgzakPEp05WspBho1RJ4AaABAg.9TlhjvACtRu9TyzsrPsOxh',\n",
       "  'UgyZtlx_fwNidAjBVdR4AaABAg',\n",
       "  'UgwNv3MdCPrD0arufSZ4AaABAg',\n",
       "  'UgyXBz5CH6Q9rmwcRhp4AaABAg.9TQ2wkUS5H99TxG3z1lyQL',\n",
       "  'UgxUGNNhbZQnp9D_Yep4AaABAg',\n",
       "  'Ugxw406F2KiRt6h0Eg54AaABAg.9TQRqjzQH199TQiRp2YQOJ',\n",
       "  'Ugyi22jKbQYthMkJnaN4AaABAg',\n",
       "  'Ugz-5ND1_48bvR--K-h4AaABAg',\n",
       "  'Ugz5jelTNmzEROhDeUB4AaABAg',\n",
       "  'UgyIBw19on3SuDypRTx4AaABAg',\n",
       "  'UgxvNfLi21bGDhlsuGN4AaABAg.9TQRqu-Qzx79TWgpd0gXUF',\n",
       "  'UgzaSBdz7kdutGQnJJJ4AaABAg',\n",
       "  'UgyF54uSxOw317OaxW94AaABAg.9TQ42Lqa9o09Tc8fhL52xl'],\n",
       " 'views': 3172185,\n",
       " 'likes': 210951,\n",
       " 'dislikes': 1824}"
      ]
     },
     "execution_count": 23,
     "metadata": {},
     "output_type": "execute_result"
    }
   ],
   "source": [
    "#Q13\n",
    "#What is the video with ID fkMW60W180E?\n",
    "videos['fkMW60W180E']"
   ]
  },
  {
   "cell_type": "code",
   "execution_count": 24,
   "metadata": {},
   "outputs": [
    {
     "data": {
      "text/plain": [
       "'A Mukbanger Ate 1 Gallon Pickles. This Is What Happened To Her Brain.'"
      ]
     },
     "execution_count": 24,
     "metadata": {},
     "output_type": "execute_result"
    }
   ],
   "source": [
    "#Q14\n",
    "#What is the title of the video with ID gF69voHU_ys?\n",
    "videos['gF69voHU_ys']['title']"
   ]
  },
  {
   "cell_type": "code",
   "execution_count": 25,
   "metadata": {},
   "outputs": [
    {
     "data": {
      "text/plain": [
       "'[In the SOOP BTS ver. Season 2] Official Teaser 2'"
      ]
     },
     "execution_count": 25,
     "metadata": {},
     "output_type": "execute_result"
    }
   ],
   "source": [
    "#Q15\n",
    "#Among the videos with more than 1 million views, what is the title of the video with the highest likes to views ratio?\n",
    "max_ratio = -1\n",
    "max_id = None\n",
    "for i in videos.keys():\n",
    "    if 'likes' in videos[i] and videos[i]['views']>1000000 and videos[i]['likes']/videos[i]['views']>max_ratio:\n",
    "        max_ratio = videos[i]['likes']/videos[i]['views']\n",
    "        max_id = videos[i]['title']\n",
    "max_id"
   ]
  },
  {
   "cell_type": "code",
   "execution_count": 26,
   "metadata": {},
   "outputs": [
    {
     "data": {
      "text/plain": [
       "'UCRvcDpyxCVmlLI8Q2TjRpmg'"
      ]
     },
     "execution_count": 26,
     "metadata": {},
     "output_type": "execute_result"
    }
   ],
   "source": [
    "#q16\n",
    "#What is the author ID of the most liked comment under the video titled 'Giving Away My Beard For Charity!'?\n",
    "target_movie = 'Giving Away My Beard For Charity!'\n",
    "target_comments = None\n",
    "for i in videos.items():\n",
    "    if i[1]['title'] == target_movie:\n",
    "        target_comments = i[1]['comments']\n",
    "        break\n",
    "max_likes = -1\n",
    "max_comment_author_id = None\n",
    "for i in target_comments:\n",
    "    if comments[i].likes>max_likes:\n",
    "        max_likes = comments[i].likes\n",
    "        max_comment_author_id = comments[i].author_id\n",
    "max_comment_author_id"
   ]
  },
  {
   "cell_type": "code",
   "execution_count": 27,
   "metadata": {},
   "outputs": [],
   "source": [
    "def bucketize(attribute, videos=videos):\n",
    "  #TODO: This is very similar to bucketize from the last project\n",
    "  buckets = {}\n",
    "  for i in videos.items():\n",
    "    if attribute == 'video_id':\n",
    "        if i[1][attribute] not in buckets:\n",
    "            buckets[i[0]] = [i[0]]\n",
    "        else:\n",
    "            buckets[i[0]].append(i[0])\n",
    "    elif type(i[1][attribute]) is list:\n",
    "        for j in i[1][attribute]:\n",
    "            if j not in buckets:\n",
    "                buckets[j] = [i[0]]\n",
    "            else:\n",
    "                buckets[j].append(i[0])\n",
    "    else:\n",
    "        if i[1][attribute] not in buckets:\n",
    "            buckets[i[1][attribute]] = [i[0]]\n",
    "        else:\n",
    "            buckets[i[1][attribute]].append(i[0])\n",
    "  return buckets"
   ]
  },
  {
   "cell_type": "code",
   "execution_count": 28,
   "metadata": {},
   "outputs": [
    {
     "data": {
      "text/plain": [
       "['VFX Artists React to SHANG-CHi Bad & Great CGi',\n",
       " 'VFX Artists React to Bad & Great CGi 54 (ft. SETH ROGEN)']"
      ]
     },
     "execution_count": 28,
     "metadata": {},
     "output_type": "execute_result"
    }
   ],
   "source": [
    "#q17\n",
    "channel_buckets = bucketize(\"channel_name\")\n",
    "cc_videos = []\n",
    "for i in channel_buckets['Corridor Crew']:\n",
    "    cc_videos.append(videos[i]['title'])\n",
    "cc_videos"
   ]
  },
  {
   "cell_type": "code",
   "execution_count": 29,
   "metadata": {},
   "outputs": [
    {
     "data": {
      "text/plain": [
       "['NFL', 'Minecraft', 'Saturday Night Live', 'SSSniperWolf', 'PBC ON FOX']"
      ]
     },
     "execution_count": 29,
     "metadata": {},
     "output_type": "execute_result"
    }
   ],
   "source": [
    "#q18\n",
    "#What are the top 5 channels that have the most total comments on their videos?\n",
    "top_channels = []\n",
    "for i in channel_buckets.items():\n",
    "    top_channels.append((i[0], sum([len(comment_buckets[j]) for j in i[1]])))\n",
    "top_channels = sorted(top_channels, key=lambda x: x[1], reverse=True)[:5]\n",
    "[i[0] for i in top_channels]"
   ]
  },
  {
   "cell_type": "code",
   "execution_count": 30,
   "metadata": {},
   "outputs": [
    {
     "data": {
      "text/plain": [
       "['Realistic Golem Transforming',\n",
       " 'I Survived 100 Days as a PANDA in HARDCORE Minecraft!',\n",
       " 'I Survived 100 Days as an ENDER DRAGON in Minecraft',\n",
       " \"Minecraft, But There's Custom End City Items...\",\n",
       " 'Building AUTOMATIC FARMS in Minecraft Hardcore (#52)',\n",
       " 'I made a custom mod in minecraft with your ideas',\n",
       " 'Minecraft - Last Life #3: Frightening Exploit Tactics',\n",
       " 'I Trapped 10 YouTubers on One Block',\n",
       " 'I Survived 100 Days as a FOX in HARDCORE Minecraft!',\n",
       " 'LAST TO LEAVE THE MYSTERY MACHINE WINS $10,000',\n",
       " 'Last Life: Episode 4 - UH OH!',\n",
       " 'Minecraft But I Upgrade EVERYTHING - The ULTIMATE Survival World! | Part 4',\n",
       " 'Minecraft, But You Can Upgrade TNT...',\n",
       " 'You Laugh You Lose Is Even Funnier In Real Life...',\n",
       " 'can 1 pixel of water save you?',\n",
       " 'Philza And Wilbur TEACH Tommy To FLY And Its SCUFFED LORE! ORIGINS SMP',\n",
       " 'Realistic Water in Minecraft...',\n",
       " 'Hermitcraft 8 Episode 14:  BETRAYING BOATEM',\n",
       " 'I Found the RICHEST Server in Minecraft! *millionaire*',\n",
       " \"Minecraft, But You Can't Leave The End...\",\n",
       " 'Minecraft but all Mobs are Dragons',\n",
       " 'I Cheated with a \"FAKE\" Professional Builder in a Building Competition...',\n",
       " 'Minecraft, But I Add A Marshmallow Every Minute...',\n",
       " 'SURVIVING SQUID GAME in GTA 5',\n",
       " 'I Won SQUID GAME In GTA 5! (Mods)',\n",
       " 'Jumping SQUID GAME CARS Across ENTIRE MAP In GTA 5! (Mods)',\n",
       " 'Playing SQUID GAME In Minecraft!',\n",
       " 'Playing SQUID GAME in Minecraft!',\n",
       " 'I Survived 69 Hours Using Only Minecraft Tools',\n",
       " 'I Survived 1,900 Days in HARDCORE Minecraft...',\n",
       " 'Becoming SQUID GAME Host in GTA 5! (GTA 5 Mods)',\n",
       " 'Minecraft Mobs when you log off...',\n",
       " \"2b2t's Obsidian War is Getting Ridiculous\",\n",
       " 'MURDER DRONES [OFFICIAL TRAILER]',\n",
       " \"Minecraft, But We're All Mutant Superhumans...\",\n",
       " '46 Minecraft Blocks Mojang Had To Remove',\n",
       " 'Minecraft but you can Eat Mobs',\n",
       " 'We Fought a Viking Horde...',\n",
       " 'I Designed Custom Minecraft Bosses...',\n",
       " 'I Built an AUTOMATIC Mob Loot Farm in Minecraft Hardcore! (#22)',\n",
       " 'Minecraft Manhunt but I have CUSTOM COMMANDS',\n",
       " 'Minecraft Mobs if they were Parents',\n",
       " '\"Eternal\" - A Minecraft Music Video ♪',\n",
       " 'Which Mob Am I Voting For in Minecraft Live 2021?!',\n",
       " 'I tested them in Minecraft early and so should you...',\n",
       " 'Minecraft Mobs if they were Superheroes',\n",
       " 'Minecraft Death Shuffle...',\n",
       " '100 Days, But There Are Custom Dimensions...',\n",
       " 'She Wants Us DEAD! 💀 Dark Deception Chapter 4 (FGTeeV Telekinesis Gameplay)',\n",
       " 'What Mob Should Be Added To Minecraft?',\n",
       " 'Minecraft, But I Add A Marshmallow Every Minute... - Extra Scenes',\n",
       " 'I Was In The Funniest Minecraft Competition With Dream',\n",
       " 'What is the Safest Base Possible in Minecraft?',\n",
       " 'So I made Dance Moves control Minecraft...']"
      ]
     },
     "execution_count": 30,
     "metadata": {},
     "output_type": "execute_result"
    }
   ],
   "source": [
    "#q19\n",
    "tag_buckets = bucketize(\"tags\")\n",
    "res = []\n",
    "for i in tag_buckets.items():\n",
    "    if 'minecraft' in i[0].lower():\n",
    "        for i in i[1]:\n",
    "            if videos[i]['title'] not in res:\n",
    "                res.append(videos[i]['title'])\n",
    "res"
   ]
  },
  {
   "cell_type": "code",
   "execution_count": 31,
   "metadata": {},
   "outputs": [
    {
     "data": {
      "text/plain": [
       "['When someone walks in while you using the bathroom😭',\n",
       " 'Smart Appliances, Gadgets For Every Home 🤩 Versatile Utensils, Kitchen, Makeup, Beauty #Shorts',\n",
       " 'Italians reacting to ketchup on pasta 😱🇮🇹 #shorts',\n",
       " 'My hidden talent #shorts',\n",
       " 'Knot']"
      ]
     },
     "execution_count": 31,
     "metadata": {},
     "output_type": "execute_result"
    }
   ],
   "source": [
    "#Q20\n",
    "#List the titles of the 5 shortest videos\n",
    "shortest_videos = []\n",
    "for i in videos.items():\n",
    "    shortest_videos.append((i[1]['title'], i[1]['duration']))\n",
    "[i[0] for i in sorted(shortest_videos, key=lambda x: x[1])[:5]]"
   ]
  },
  {
   "cell_type": "code",
   "execution_count": null,
   "metadata": {},
   "outputs": [],
   "source": []
  }
 ],
 "metadata": {
  "interpreter": {
   "hash": "cf3a1eecdde00f0f7f98d2f5a25edfc92a721e7fdf8a41e706a436beaf8884df"
  },
  "kernelspec": {
   "display_name": "Python 3.9.0 64-bit",
   "language": "python",
   "name": "python3"
  },
  "language_info": {
   "codemirror_mode": {
    "name": "ipython",
    "version": 3
   },
   "file_extension": ".py",
   "mimetype": "text/x-python",
   "name": "python",
   "nbconvert_exporter": "python",
   "pygments_lexer": "ipython3",
   "version": "3.9.7"
  },
  "orig_nbformat": 4
 },
 "nbformat": 4,
 "nbformat_minor": 2
}
